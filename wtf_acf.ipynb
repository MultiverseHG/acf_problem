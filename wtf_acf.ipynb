{
 "cells": [
  {
   "cell_type": "code",
   "execution_count": 15,
   "id": "d33080eb",
   "metadata": {},
   "outputs": [],
   "source": [
    "import pandas as pd\n",
    "import numpy as np\n",
    "import statsmodels.api as sm\n",
    "from scipy.stats import pearsonr"
   ]
  },
  {
   "cell_type": "code",
   "execution_count": 6,
   "id": "ad8ccd0c",
   "metadata": {},
   "outputs": [],
   "source": [
    "# read in data\n",
    "bus = pd.read_csv('cleaned_bus.csv', index_col='Month', parse_dates=True)"
   ]
  },
  {
   "cell_type": "code",
   "execution_count": 17,
   "id": "1859e19a",
   "metadata": {},
   "outputs": [
    {
     "data": {
      "text/plain": [
       "array([1.        , 0.96185762, 0.92394043, 0.89402625, 0.86212294,\n",
       "       0.82747604, 0.7949652 , 0.7697359 , 0.74331566, 0.71953315,\n",
       "       0.69907988, 0.68922447, 0.68267552])"
      ]
     },
     "execution_count": 17,
     "metadata": {},
     "output_type": "execute_result"
    }
   ],
   "source": [
    "# compute first 12 lags of ACF with statsmodels\n",
    "sm_acf = sm.tsa.acf(bus, nlags=12, fft=False)\n",
    "sm_acf"
   ]
  },
  {
   "cell_type": "code",
   "execution_count": 19,
   "id": "63d633fc",
   "metadata": {},
   "outputs": [
    {
     "data": {
      "text/plain": [
       "array([1.        , 0.97784005, 0.95790248, 0.94820686, 0.93529963,\n",
       "       0.92144877, 0.91243471, 0.90775495, 0.90613805, 0.90499072,\n",
       "       0.90268042, 0.91201503, 0.92676713])"
      ]
     },
     "execution_count": 19,
     "metadata": {},
     "output_type": "execute_result"
    }
   ],
   "source": [
    "# compute ACF by shifting and using scipy.stats.pearsonr\n",
    "# drop nulls that arise from shifting and corresponding rows of unshifted data\n",
    "trimmed_acf = []\n",
    "for lag in range(13):\n",
    "    shifted = bus.riders.shift(lag).iloc[lag:]\n",
    "    trimmed = bus.riders.iloc[lag:]\n",
    "    corr = pearsonr(shifted, trimmed)[0] # [0] to grab r ([1] is p-value)\n",
    "    trimmed_acf.append(corr)\n",
    "trimmed_acf = np.array(trimmed_acf)\n",
    "trimmed_acf"
   ]
  },
  {
   "cell_type": "code",
   "execution_count": 20,
   "id": "18def1d6",
   "metadata": {},
   "outputs": [
    {
     "data": {
      "text/plain": [
       "array([ 0.        , -0.01598243, -0.03396205, -0.05418061, -0.07317669,\n",
       "       -0.09397274, -0.11746951, -0.13801905, -0.16282239, -0.18545757,\n",
       "       -0.20360053, -0.22279057, -0.24409161])"
      ]
     },
     "execution_count": 20,
     "metadata": {},
     "output_type": "execute_result"
    }
   ],
   "source": [
    "# not the same - how different are they?\n",
    "sm_acf - trimmed_acf"
   ]
  },
  {
   "cell_type": "code",
   "execution_count": 21,
   "id": "d7d61b45",
   "metadata": {},
   "outputs": [
    {
     "data": {
      "text/plain": [
       "array([1.        , 0.95881238, 0.92946761, 0.91543468, 0.90219115,\n",
       "       0.89313096, 0.89021813, 0.89252098, 0.89759803, 0.90131633,\n",
       "       0.90374304, 0.91321243, 0.9245165 ])"
      ]
     },
     "execution_count": 21,
     "metadata": {},
     "output_type": "execute_result"
    }
   ],
   "source": [
    "# maybe acf is filling in the missing values with zeroes?\n",
    "# from looking at the source code, doesn't seem like it, but let's try\n",
    "zeroed_acf = []\n",
    "for lag in range(13):\n",
    "    shifted = bus.riders.shift(lag).fillna(0)\n",
    "    corr = pearsonr(shifted, bus.riders)[0]\n",
    "    zeroed_acf.append(corr)\n",
    "zeroed_acf = np.array(zeroed_acf)\n",
    "zeroed_acf"
   ]
  },
  {
   "cell_type": "code",
   "execution_count": 22,
   "id": "fda22797",
   "metadata": {},
   "outputs": [
    {
     "data": {
      "text/plain": [
       "array([ 0.        ,  0.00304524, -0.00552718, -0.02140843, -0.04006821,\n",
       "       -0.06565492, -0.09525293, -0.12278508, -0.15428237, -0.18178318,\n",
       "       -0.20466316, -0.22398796, -0.24184098])"
      ]
     },
     "execution_count": 22,
     "metadata": {},
     "output_type": "execute_result"
    }
   ],
   "source": [
    "# different again!\n",
    "sm_acf - zeroed_acf"
   ]
  },
  {
   "cell_type": "code",
   "execution_count": null,
   "id": "0e6fba08",
   "metadata": {},
   "outputs": [],
   "source": [
    "# so why does statsmodels give a different ACF than calculating directly with Pearson's r?"
   ]
  }
 ],
 "metadata": {
  "kernelspec": {
   "display_name": "Python 3 (ipykernel)",
   "language": "python",
   "name": "python3"
  },
  "language_info": {
   "codemirror_mode": {
    "name": "ipython",
    "version": 3
   },
   "file_extension": ".py",
   "mimetype": "text/x-python",
   "name": "python",
   "nbconvert_exporter": "python",
   "pygments_lexer": "ipython3",
   "version": "3.8.3"
  }
 },
 "nbformat": 4,
 "nbformat_minor": 5
}
